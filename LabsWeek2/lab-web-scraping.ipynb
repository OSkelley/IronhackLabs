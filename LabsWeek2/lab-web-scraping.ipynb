{
  "cells": [
    {
      "cell_type": "markdown",
      "id": "7e7a1ab8-2599-417d-9a65-25ef07f3a786",
      "metadata": {
        "id": "7e7a1ab8-2599-417d-9a65-25ef07f3a786"
      },
      "source": [
        "# Lab | Web Scraping"
      ]
    },
    {
      "cell_type": "markdown",
      "id": "ce8882fc-4815-4567-92fa-b4816358ba7d",
      "metadata": {
        "id": "ce8882fc-4815-4567-92fa-b4816358ba7d"
      },
      "source": [
        "Welcome to the IMDb Web Scraping Adventure Lab!\n",
        "\n",
        "**Objective**\n",
        "\n",
        "In this lab, we will embark on a mission to unearth valuable insights from the vast sea of data available on IMDb, one of the largest online databases of movie, TV, and celebrity information. As budding data scientists and business analysts, you have been tasked to scrape a specific subset of data from IMDb to assist film production companies in understanding the landscape of highly-rated movies in a defined time period. Your insights will potentially influence the making of the next netflix movie!\n",
        "\n",
        "**Background**\n",
        "\n",
        "In a world where data has become the new currency, businesses are leveraging big data to make informed decisions that drive success and profitability. The entertainment industry, being no exception, utilizes data analytics to comprehend market trends, audience preferences, and the performance of films based on various parameters such as director, genre, stars involved, etc. IMDb stands as a goldmine of such data, offering intricate details of almost every movie ever made.\n",
        "\n",
        "**Task**\n",
        "\n",
        "Your task is to create a Python script using `BeautifulSoup` and `pandas` to scrape IMDb movie data based on user ratings and release dates. This script should be able to filter movies with ratings above a certain threshold and within a specified date range.\n",
        "\n",
        "**Expected Outcome**\n",
        "\n",
        "- A function named `scrape_imdb` that takes four parameters: `title_type`,`user_rating`, `start_date`, and `end_date`.\n",
        "- The function should return a DataFrame with the following columns:\n",
        "  - **Movie Nr**: The number representing the movie’s position in the list.\n",
        "  - **Title**: The title of the movie.\n",
        "  - **Year**: The year the movie was released.\n",
        "  - **Rating**: The IMDb rating of the movie.\n",
        "  - **Runtime (min)**: The duration of the movie in minutes.\n",
        "  - **Genre**: The genre of the movie.\n",
        "  - **Description**: A brief description of the movie.\n",
        "  - **Director**: The director of the movie.\n",
        "  - **Stars**: The main stars of the movie.\n",
        "  - **Votes**: The number of votes the movie received.\n",
        "  - **Gross ($M)**: The gross earnings of the movie in millions of USD.\n",
        "\n",
        "You will execute this script to scrape data for movies with the Title Type `Feature Film` that have a user rating of `7.5 and above` and were released between `January 1, 1990, and December 31, 1992`.\n",
        "\n",
        "Remember to experiment with different title types, dates and ratings to ensure your code is versatile and can handle various searches effectively!\n",
        "\n",
        "**Resources**\n",
        "\n",
        "- [Beautiful Soup Documentation](https://www.crummy.com/software/BeautifulSoup/bs4/doc/)\n",
        "- [Pandas Documentation](https://pandas.pydata.org/pandas-docs/stable/index.html)\n",
        "- [IMDb Advanced Search](https://www.imdb.com/search/title/)\n"
      ]
    },
    {
      "cell_type": "markdown",
      "id": "3519921d-5890-445b-9a33-934ed8ee378c",
      "metadata": {
        "id": "3519921d-5890-445b-9a33-934ed8ee378c"
      },
      "source": [
        "**Hint**\n",
        "\n",
        "Your first mission is to familiarize yourself with the IMDb advanced search page. Head over to [IMDb advanced search](https://www.imdb.com/search/title/) and input the following parameters, keeping all other fields to their default values or blank:\n",
        "\n",
        "- **Title Type**: Feature film\n",
        "- **Release date**: From 1990 to 1992 (Note: You don't need to specify the day and month)\n",
        "- **User Rating**: 7.5 to -\n",
        "\n",
        "Upon searching, you'll land on a page showcasing a list of movies, each displaying vital details such as the title, release year, and crew information. Your task is to scrape this treasure trove of data.\n",
        "\n",
        "Carefully examine the resulting URL and construct your own URL to include all the necessary parameters for filtering the movies."
      ]
    },
    {
      "cell_type": "markdown",
      "id": "25a83a0d-a742-49f6-985e-e27887cbf922",
      "metadata": {
        "id": "25a83a0d-a742-49f6-985e-e27887cbf922"
      },
      "source": [
        "\n",
        "---\n",
        "\n",
        "**Best of luck! Immerse yourself in the world of movies and may the data be with you!**"
      ]
    },
    {
      "cell_type": "markdown",
      "id": "7b75cf0d-9afa-4eec-a9e2-befeac68b2a0",
      "metadata": {
        "id": "7b75cf0d-9afa-4eec-a9e2-befeac68b2a0"
      },
      "source": [
        "**Important note**:\n",
        "\n",
        "In the fast-changing online world, websites often get updates and make changes. When you try this lab, the IMDb website might be different from what we expect.\n",
        "\n",
        "If you run into problems because of these changes, like new rules or things that stop you from getting data, don't worry! Instead, get creative.\n",
        "\n",
        "You can choose another website that interests you and is good for scraping data. Websites like Wikipedia or The New York Times are good options. The main goal is still the same: get useful data and learn how to scrape it from a website that you find interesting. It's a chance to practice your web scraping skills and explore a source of information you like."
      ]
    },
    {
      "cell_type": "code",
      "execution_count": 8,
      "id": "40359eee-9cd7-4884-bfa4-83344c222305",
      "metadata": {
        "id": "40359eee-9cd7-4884-bfa4-83344c222305"
      },
      "outputs": [],
      "source": [
        "import requests\n",
        "\n",
        "import pandas as pd\n",
        "\n",
        "url = \"https://www.imdb.com/search/title/?title_type=feature&release_date=1990-01-01,1992-12-31&user_rating=7.5,\"\n",
        "response = requests.get(url)\n",
        "response\n",
        "\n",
        "from bs4 import BeautifulSoup\n",
        "\n",
        "soup = BeautifulSoup(response.content, \"html.parser\")"
      ]
    },
    {
      "cell_type": "code",
      "execution_count": 25,
      "id": "7c7e2716",
      "metadata": {},
      "outputs": [],
      "source": [
        "def scrape_imdb(soup):\n",
        "    movie_number_list = []\n",
        "    title_list = []\n",
        "    year_list = []\n",
        "    rating_list = []\n",
        "    runtime_list = []\n",
        "    genre_list =[]\n",
        "    description_list = []\n",
        "    director_list = []\n",
        "    stars_list = []\n",
        "    votes_list = []\n",
        "    gross_list = []\n",
        "    \n",
        "    films = soup.find_all('div', class_= 'lister-item-content')\n",
        "    \n",
        "    for film in films:\n",
        "        \n",
        "        movie_number = film.find('span', class_= 'lister-item-index unbold text-primary').text.strip()\n",
        "        movie_number_list.append(movie_number)\n",
        "        \n",
        "        title = film.find('a').text.strip()\n",
        "        title_list.append(title)\n",
        "        \n",
        "        year = film.find('span', class_= 'lister-item-year text-muted unbold').text.replace('(','').replace(')','').strip()\n",
        "        year_list.append(year)\n",
        "        \n",
        "        rating = film.find('strong').text.strip()\n",
        "        rating_list.append(rating)\n",
        "        \n",
        "        runtime = film.find('span', class_= 'runtime').text.replace(' min','').strip()\n",
        "        runtime_list.append(runtime)\n",
        "        \n",
        "        genre = film.find('span', class_= 'genre').text.strip()\n",
        "        genre_list.append(genre)\n",
        "        \n",
        "        description = film.select('p', class_='text-muted')[1].text.strip()\n",
        "        description_list.append(description)\n",
        "        \n",
        "        director = film.select('p')[2].text.split('\\n')\n",
        "        director_list.append(director[2])\n",
        "        \n",
        "        stars = film.select('p')[2].text.split('\\n')\n",
        "        stars_list.append(stars[5:9])\n",
        "        \n",
        "        votes = film.select('p')[3].text.split('\\n')\n",
        "        votes_list.append(votes[2])\n",
        "        \n",
        "        gross = film.select('p')[3].text.split('\\n')\n",
        "        gross_list.append(gross[-2])\n",
        "        \n",
        "        df = pd.DataFrame({'Number in List':movie_number_list,\n",
        "                           'Name of Film':title_list,\n",
        "                           'Year of Release':year_list,\n",
        "                           'IMDb Rating':rating_list,\n",
        "                           'Runtime (mins)':runtime_list,\n",
        "                           'Genres':genre_list,\n",
        "                           'Description':description_list,\n",
        "                           'Director':director_list,\n",
        "                           'Starring':stars_list,\n",
        "                           'Public Votes':votes_list,\n",
        "                           'Gross Revenue':gross_list})\n",
        "    \n",
        "    return director\n",
        "\n"
      ]
    },
    {
      "cell_type": "code",
      "execution_count": 26,
      "id": "1fcb7a18",
      "metadata": {},
      "outputs": [
        {
          "data": {
            "text/plain": [
              "'\\n    Director:\\nWoody Allen\\n| \\n    Stars:\\nWoody Allen, \\nMia Farrow, \\nSydney Pollack, \\nJudy Davis\\n'"
            ]
          },
          "execution_count": 26,
          "metadata": {},
          "output_type": "execute_result"
        }
      ],
      "source": [
        "x = scrape_imdb(soup)\n",
        "x"
      ]
    },
    {
      "cell_type": "code",
      "execution_count": 96,
      "id": "4ba39aa9",
      "metadata": {},
      "outputs": [
        {
          "ename": "SyntaxError",
          "evalue": "invalid syntax (3909614792.py, line 7)",
          "output_type": "error",
          "traceback": [
            "\u001b[1;36m  Cell \u001b[1;32mIn[96], line 7\u001b[1;36m\u001b[0m\n\u001b[1;33m    lister-item-index unbold text-primary\u001b[0m\n\u001b[1;37m                      ^\u001b[0m\n\u001b[1;31mSyntaxError\u001b[0m\u001b[1;31m:\u001b[0m invalid syntax\n"
          ]
        }
      ],
      "source": [
        "#main > div > div.lister.list.detail.sub-list > div > div:nth-child(1) > div.lister-item-content > h3 > a\n",
        "\n",
        "#main > div > div.lister.list.detail.sub-list > div > div:nth-child(2) > div.lister-item-content > h3 > a\n",
        "\n",
        "#main > div > div.lister.list.detail.sub-list > div > div:nth-child(1) > div.lister-item-content > p:nth-child(5)\n",
        "\n",
        "lister-item-index unbold text-primary"
      ]
    },
    {
      "cell_type": "code",
      "execution_count": null,
      "id": "dd240f82",
      "metadata": {},
      "outputs": [],
      "source": [
        "def extract_bike_info(soup):\n",
        "    \n",
        "    bicycle_names = []\n",
        "    prices = []\n",
        "    URL_dets = []\n",
        "    URL_img = []\n",
        "    \n",
        "    components = soup.find_all('article', class_='de-ProductTile')\n",
        "    #components = soup.find_all('section', class_='de-ProductTile-info')\n",
        "\n",
        "    \n",
        "    for component in components:\n",
        "    # Extract bicycle name\n",
        "        bike_name = component.find('h4', class_='de-ProductTile-title').text.strip()\n",
        "        bicycle_names.append(bike_name)\n",
        "\n",
        "    # Extract price\n",
        "        price = component.find('span', class_='js-de-ProductTile-currentPrice').text.strip().replace(\"$\", \"\")\n",
        "        prices.append(price)\n",
        "        \n",
        "    # Extract URL for the product details\n",
        "        link_bike = component.find('a', class_='de-u-linkClean js-de-ProductTile-link')\n",
        "        URL_dets.append('http://decathlon.com' + link_bike.get('href'))\n",
        "        \n",
        "    # Extract URL for images\n",
        "        link_image = component.find('img', itemprop='image').get('data-src')\n",
        "        URL_img.append(link_image[2:])\n",
        "        \n",
        "    df = pd.DataFrame({'Bicycle Names':bicycle_names, 'Bicycle Prices':prices, 'Links for Bike Details':URL_dets, 'Links for Bike Images':URL_img})\n",
        "    \n",
        "    return df"
      ]
    },
    {
      "cell_type": "markdown",
      "id": "9ab1217a-df9d-4a2b-a32c-2c5f1eecd52a",
      "metadata": {
        "id": "9ab1217a-df9d-4a2b-a32c-2c5f1eecd52a"
      },
      "source": [
        "## BONUS\n",
        "\n",
        "The search results span multiple pages, housing a total of 631 movies in our example with each page displaying 50 movies at most. To scrape data seamlessly from all pages, you'll need to dive deep into the structure of the URLs generated with each \"Next\" click.\n",
        "\n",
        "Take a close look at the following URLs:\n",
        "- First page:\n",
        "  ```\n",
        "  https://www.imdb.com/search/title/?title_type=feature&release_date=1990-01-01,1992-12-31&user_rating=7.5,\n",
        "  ```\n",
        "- Second page:\n",
        "  ```\n",
        "  https://www.imdb.com/search/title/?title_type=feature&release_date=1990-01-01,1992-12-31&user_rating=7.5,&start=51&ref_=adv_nxt\n",
        "  ```\n",
        "- Third page:\n",
        "  ```\n",
        "  https://www.imdb.com/search/title/?title_type=feature&release_date=1990-01-01,1992-12-31&user_rating=7.5,&start=101&ref_=adv_nxt\n",
        "  ```\n",
        "\n",
        "You should notice a pattern. There is a `start` parameter incrementing by 50 with each page, paired with a constant `ref_` parameter holding the value \"adv_nxt\".\n",
        "\n",
        "Modify your script so it's capable of iterating over all available pages to fetch data on all the 631 movies (631 is the total number of movies in the proposed example)."
      ]
    },
    {
      "cell_type": "code",
      "execution_count": null,
      "id": "21ac4fc0-a12b-4a00-9266-2020166f0dea",
      "metadata": {
        "id": "21ac4fc0-a12b-4a00-9266-2020166f0dea"
      },
      "outputs": [],
      "source": [
        "# Your solution goes here"
      ]
    },
    {
      "cell_type": "code",
      "execution_count": 1,
      "id": "021a2540",
      "metadata": {},
      "outputs": [
        {
          "name": "stdout",
          "output_type": "stream",
          "text": [
            "Collecting wbgapi\n",
            "  Downloading wbgapi-1.0.12-py3-none-any.whl (36 kB)\n",
            "Requirement already satisfied: requests in c:\\users\\olive\\anaconda3\\lib\\site-packages (from wbgapi) (2.31.0)\n",
            "Requirement already satisfied: PyYAML in c:\\users\\olive\\anaconda3\\lib\\site-packages (from wbgapi) (6.0)\n",
            "Requirement already satisfied: tabulate in c:\\users\\olive\\anaconda3\\lib\\site-packages (from wbgapi) (0.8.10)\n",
            "Requirement already satisfied: charset-normalizer<4,>=2 in c:\\users\\olive\\anaconda3\\lib\\site-packages (from requests->wbgapi) (2.0.4)\n",
            "Requirement already satisfied: idna<4,>=2.5 in c:\\users\\olive\\anaconda3\\lib\\site-packages (from requests->wbgapi) (3.4)\n",
            "Requirement already satisfied: urllib3<3,>=1.21.1 in c:\\users\\olive\\anaconda3\\lib\\site-packages (from requests->wbgapi) (1.26.16)\n",
            "Requirement already satisfied: certifi>=2017.4.17 in c:\\users\\olive\\anaconda3\\lib\\site-packages (from requests->wbgapi) (2023.7.22)\n",
            "Installing collected packages: wbgapi\n",
            "Successfully installed wbgapi-1.0.12\n"
          ]
        }
      ],
      "source": [
        "! pip install wbgapi"
      ]
    }
  ],
  "metadata": {
    "colab": {
      "provenance": []
    },
    "kernelspec": {
      "display_name": "Python 3 (ipykernel)",
      "language": "python",
      "name": "python3"
    },
    "language_info": {
      "codemirror_mode": {
        "name": "ipython",
        "version": 3
      },
      "file_extension": ".py",
      "mimetype": "text/x-python",
      "name": "python",
      "nbconvert_exporter": "python",
      "pygments_lexer": "ipython3",
      "version": "3.11.4"
    }
  },
  "nbformat": 4,
  "nbformat_minor": 5
}
