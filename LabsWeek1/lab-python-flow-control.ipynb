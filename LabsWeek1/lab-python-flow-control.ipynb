{
 "cells": [
  {
   "cell_type": "markdown",
   "id": "d3bfc191-8885-42ee-b0a0-bbab867c6f9f",
   "metadata": {
    "tags": []
   },
   "source": [
    "# Lab | Flow Control"
   ]
  },
  {
   "cell_type": "markdown",
   "id": "3851fcd1-cf98-4653-9c89-e003b7ec9400",
   "metadata": {},
   "source": [
    "## Exercise: Managing Customer Orders Optimized\n",
    "\n",
    "In the last lab, you were starting an online store that sells various products. To ensure smooth operations, you developed a program that manages customer orders and inventory.\n",
    "\n",
    "You did so without using flow control. Let's go a step further and improve this code.\n",
    "\n",
    "Follow the steps below to complete the exercise:\n",
    "\n",
    "1. Look at your code from the lab data structures, and improve repeated code with loops.\n",
    "\n",
    "2. Instead of asking the user to input the name of three products that a customer wants to order, do the following:\n",
    "    \n",
    "    a. Prompt the user to enter the name of a product that a customer wants to order.\n",
    "    \n",
    "    b. Add the product name to the \"customer_orders\" set.\n",
    "    \n",
    "    c. Ask the user if they want to add another product (yes/no).\n",
    "    \n",
    "    d. Continue the loop until the user does not want to add another product.\n",
    "\n",
    "3. Instead of updating the inventory by subtracting 1 from the quantity of each product, only do it for  the products that were ordered (those in \"customer_orders\")."
   ]
  },
  {
   "cell_type": "code",
   "execution_count": 1,
   "id": "b0e3a52a",
   "metadata": {},
   "outputs": [
    {
     "name": "stdout",
     "output_type": "stream",
     "text": [
      "Products in customer order: {'scarf'}\n",
      "Order Statistics:\n",
      "Total Products Ordered: 1\n",
      "Percentage of Products Ordered: 20.0 %\n"
     ]
    },
    {
     "ename": "KeyError",
     "evalue": "'scarf'",
     "output_type": "error",
     "traceback": [
      "\u001b[1;31m---------------------------------------------------------------------------\u001b[0m",
      "\u001b[1;31mKeyError\u001b[0m                                  Traceback (most recent call last)",
      "\u001b[1;32mc:\\Users\\Olive\\Ironhack\\Week_1\\lab-python-flow-control\\lab-python-flow-control.ipynb Cell 3\u001b[0m line \u001b[0;36m2\n\u001b[0;32m     <a href='vscode-notebook-cell:/c%3A/Users/Olive/Ironhack/Week_1/lab-python-flow-control/lab-python-flow-control.ipynb#W2sZmlsZQ%3D%3D?line=23'>24</a>\u001b[0m \u001b[39m#for prod_order in customer_orders:\u001b[39;00m\n\u001b[0;32m     <a href='vscode-notebook-cell:/c%3A/Users/Olive/Ironhack/Week_1/lab-python-flow-control/lab-python-flow-control.ipynb#W2sZmlsZQ%3D%3D?line=24'>25</a>\u001b[0m  \u001b[39m#   if prod_order in inventory.keys():\u001b[39;00m\n\u001b[0;32m     <a href='vscode-notebook-cell:/c%3A/Users/Olive/Ironhack/Week_1/lab-python-flow-control/lab-python-flow-control.ipynb#W2sZmlsZQ%3D%3D?line=25'>26</a>\u001b[0m     \u001b[39m#    inventory[prod_order] -= 1\u001b[39;00m\n\u001b[0;32m     <a href='vscode-notebook-cell:/c%3A/Users/Olive/Ironhack/Week_1/lab-python-flow-control/lab-python-flow-control.ipynb#W2sZmlsZQ%3D%3D?line=27'>28</a>\u001b[0m \u001b[39mfor\u001b[39;00m prod_order \u001b[39min\u001b[39;00m customer_orders:\n\u001b[1;32m---> <a href='vscode-notebook-cell:/c%3A/Users/Olive/Ironhack/Week_1/lab-python-flow-control/lab-python-flow-control.ipynb#W2sZmlsZQ%3D%3D?line=28'>29</a>\u001b[0m     inventory[prod_order] \u001b[39m-\u001b[39m\u001b[39m=\u001b[39m \u001b[39m1\u001b[39m\n\u001b[0;32m     <a href='vscode-notebook-cell:/c%3A/Users/Olive/Ironhack/Week_1/lab-python-flow-control/lab-python-flow-control.ipynb#W2sZmlsZQ%3D%3D?line=31'>32</a>\u001b[0m \u001b[39mprint\u001b[39m(\u001b[39m\"\u001b[39m\u001b[39mUpdated Inventory:\u001b[39m\u001b[39m\"\u001b[39m, inventory)\n",
      "\u001b[1;31mKeyError\u001b[0m: 'scarf'"
     ]
    }
   ],
   "source": [
    "products = [\"t-shirt\", \"mug\", \"hat\", \"book\", \"keychain\"]\n",
    "inventory = {}\n",
    "for prod in products:\n",
    "    inventory[prod] = int(input(f\"Please enter the number of {prod}s: \"))\n",
    "customer_orders = set()\n",
    "\n",
    "var = True\n",
    "while var:\n",
    "    question = input(\"Type yes to add a product to the order or no to complete order:\")\n",
    "    if question == \"yes\":\n",
    "        prod_order = input(\"Enter the name of the product the customer wants to order:\")\n",
    "        customer_orders.add(prod_order)\n",
    "    elif question == \"no\":\n",
    "        var = False\n",
    "\n",
    "print(\"Products in customer order:\", customer_orders)\n",
    "products_ordered = len(customer_orders)\n",
    "percentage_ordered = ((products_ordered/len(products))*100)\n",
    "order_status = (products_ordered, percentage_ordered)\n",
    "print(\"Order Statistics:\")\n",
    "print(\"Total Products Ordered:\", products_ordered)\n",
    "print(\"Percentage of Products Ordered:\", percentage_ordered, \"%\")\n",
    "\n",
    "#for prod_order in customer_orders:\n",
    " #   if prod_order in inventory.keys():\n",
    "    #    inventory[prod_order] -= 1\n",
    "\n",
    "for prod_order in customer_orders:\n",
    "    inventory[prod_order] -= 1\n",
    "\n",
    "    \n",
    "print(\"Updated Inventory:\", inventory)"
   ]
  }
 ],
 "metadata": {
  "kernelspec": {
   "display_name": "Python 3 (ipykernel)",
   "language": "python",
   "name": "python3"
  },
  "language_info": {
   "codemirror_mode": {
    "name": "ipython",
    "version": 3
   },
   "file_extension": ".py",
   "mimetype": "text/x-python",
   "name": "python",
   "nbconvert_exporter": "python",
   "pygments_lexer": "ipython3",
   "version": "3.11.4"
  }
 },
 "nbformat": 4,
 "nbformat_minor": 5
}
